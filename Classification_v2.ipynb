{
 "cells": [
  {
   "cell_type": "markdown",
   "id": "d5ed31a2",
   "metadata": {},
   "source": [
    "# AIML CA1"
   ]
  },
  {
   "cell_type": "markdown",
   "id": "9ac7da66",
   "metadata": {},
   "source": [
    "### OBJECTIVES\n",
    "## ‎ \n",
    "#### 1) How is prediction task defined? And what is the meaning of the output variable?\n",
    "#### 2) How do you represent your data as features?\n",
    "#### 3) Did you process the features in any way?\n",
    "#### 4) How did you select which learning algorithms to use?\n",
    "#### 5) Did you try to hypertune the parameters of the learning algorithm, and in that case how?\n",
    "#### 6) How do you evaluate the quality of your system?\n",
    "#### 7) How does your system compare to a stupid baseline?\n",
    "#### 8) Can you say anything about the errors that the system makes?\n",
    "#### 9) Is it possible to say something about which features the model considers important? (Whether this is possible depends on the type of classifier you are using)"
   ]
  },
  {
   "cell_type": "markdown",
   "id": "c88d1127",
   "metadata": {},
   "source": [
    "# ‎ "
   ]
  },
  {
   "cell_type": "markdown",
   "id": "7bb4d4ee",
   "metadata": {},
   "source": [
    "## CLASSIFICATION: Factory Dataset"
   ]
  },
  {
   "cell_type": "markdown",
   "id": "2bb44088",
   "metadata": {},
   "source": [
    "#### How is the prediction task defined? And what is the meaning of the output variable?\n",
    "#### ‎ \n",
    "##### The prediction task here is to predict which machine will possibly fail before it does, so that it can be replaced and does not interrupt production"
   ]
  },
  {
   "cell_type": "code",
   "execution_count": 1,
   "id": "ab7a3e71",
   "metadata": {},
   "outputs": [],
   "source": [
    "## import statements\n",
    "\n",
    "import numpy as np\n",
    "import pandas as pd\n",
    "import matplotlib.pyplot as plt\n",
    "from matplotlib import pyplot\n",
    "\n",
    "## import sklearn tools for building and scoring the model\n",
    "from sklearn import metrics\n",
    "from sklearn.pipeline import Pipeline\n",
    "from sklearn.impute import SimpleImputer\n",
    "from sklearn.model_selection import train_test_split\n",
    "from sklearn.preprocessing import StandardScaler\n",
    "from sklearn.preprocessing import OrdinalEncoder\n",
    "from sklearn.compose import ColumnTransformer\n",
    "from sklearn.model_selection import GridSearchCV\n",
    "from sklearn.model_selection import cross_val_score\n",
    "from sklearn.metrics import plot_confusion_matrix\n",
    "\n",
    "## import Classifiers from sklearn\n",
    "from sklearn.neighbors import KNeighborsClassifier\n",
    "from sklearn.naive_bayes import GaussianNB\n",
    "from sklearn.linear_model import LogisticRegression\n",
    "from sklearn.tree import DecisionTreeClassifier\n",
    "from sklearn.ensemble import RandomForestClassifier\n",
    "from sklearn.svm import SVC\n",
    "from sklearn.dummy import DummyClassifier\n",
    "from sklearn.datasets import make_classification\n",
    "from sklearn.ensemble import RandomForestClassifier\n",
    "\n",
    "import warnings\n",
    "warnings.filterwarnings('ignore')"
   ]
  },
  {
   "cell_type": "markdown",
   "id": "62317572",
   "metadata": {},
   "source": [
    "### Data Preprocessing"
   ]
  },
  {
   "cell_type": "code",
   "execution_count": 2,
   "id": "d72b4b94",
   "metadata": {},
   "outputs": [
    {
     "data": {
      "text/html": [
       "<div>\n",
       "<style scoped>\n",
       "    .dataframe tbody tr th:only-of-type {\n",
       "        vertical-align: middle;\n",
       "    }\n",
       "\n",
       "    .dataframe tbody tr th {\n",
       "        vertical-align: top;\n",
       "    }\n",
       "\n",
       "    .dataframe thead th {\n",
       "        text-align: right;\n",
       "    }\n",
       "</style>\n",
       "<table border=\"1\" class=\"dataframe\">\n",
       "  <thead>\n",
       "    <tr style=\"text-align: right;\">\n",
       "      <th></th>\n",
       "      <th>Unique ID</th>\n",
       "      <th>Product ID</th>\n",
       "      <th>Quality</th>\n",
       "      <th>Ambient T (C)</th>\n",
       "      <th>Process T (C)</th>\n",
       "      <th>Rotation Speed (rpm)</th>\n",
       "      <th>Torque (Nm)</th>\n",
       "      <th>Tool Wear (min)</th>\n",
       "      <th>Machine Status</th>\n",
       "    </tr>\n",
       "  </thead>\n",
       "  <tbody>\n",
       "    <tr>\n",
       "      <th>0</th>\n",
       "      <td>1</td>\n",
       "      <td>K12965</td>\n",
       "      <td>M</td>\n",
       "      <td>24.95</td>\n",
       "      <td>35.45</td>\n",
       "      <td>1551.0</td>\n",
       "      <td>42.8</td>\n",
       "      <td>0</td>\n",
       "      <td>0</td>\n",
       "    </tr>\n",
       "    <tr>\n",
       "      <th>1</th>\n",
       "      <td>2</td>\n",
       "      <td>Z62710</td>\n",
       "      <td>L</td>\n",
       "      <td>25.05</td>\n",
       "      <td>35.55</td>\n",
       "      <td>1408.0</td>\n",
       "      <td>46.3</td>\n",
       "      <td>3</td>\n",
       "      <td>0</td>\n",
       "    </tr>\n",
       "    <tr>\n",
       "      <th>2</th>\n",
       "      <td>3</td>\n",
       "      <td>T20224</td>\n",
       "      <td>L</td>\n",
       "      <td>24.95</td>\n",
       "      <td>35.35</td>\n",
       "      <td>1498.0</td>\n",
       "      <td>49.4</td>\n",
       "      <td>5</td>\n",
       "      <td>0</td>\n",
       "    </tr>\n",
       "    <tr>\n",
       "      <th>3</th>\n",
       "      <td>4</td>\n",
       "      <td>Z33024</td>\n",
       "      <td>L</td>\n",
       "      <td>25.05</td>\n",
       "      <td>35.45</td>\n",
       "      <td>1433.0</td>\n",
       "      <td>39.5</td>\n",
       "      <td>7</td>\n",
       "      <td>0</td>\n",
       "    </tr>\n",
       "    <tr>\n",
       "      <th>4</th>\n",
       "      <td>5</td>\n",
       "      <td>Z52839</td>\n",
       "      <td>L</td>\n",
       "      <td>25.05</td>\n",
       "      <td>35.55</td>\n",
       "      <td>1408.0</td>\n",
       "      <td>40.0</td>\n",
       "      <td>9</td>\n",
       "      <td>0</td>\n",
       "    </tr>\n",
       "    <tr>\n",
       "      <th>...</th>\n",
       "      <td>...</td>\n",
       "      <td>...</td>\n",
       "      <td>...</td>\n",
       "      <td>...</td>\n",
       "      <td>...</td>\n",
       "      <td>...</td>\n",
       "      <td>...</td>\n",
       "      <td>...</td>\n",
       "      <td>...</td>\n",
       "    </tr>\n",
       "    <tr>\n",
       "      <th>19995</th>\n",
       "      <td>19996</td>\n",
       "      <td>T87335</td>\n",
       "      <td>M</td>\n",
       "      <td>25.75</td>\n",
       "      <td>35.35</td>\n",
       "      <td>NaN</td>\n",
       "      <td>29.5</td>\n",
       "      <td>14</td>\n",
       "      <td>0</td>\n",
       "    </tr>\n",
       "    <tr>\n",
       "      <th>19996</th>\n",
       "      <td>19997</td>\n",
       "      <td>Z59525</td>\n",
       "      <td>H</td>\n",
       "      <td>25.85</td>\n",
       "      <td>35.35</td>\n",
       "      <td>1632.0</td>\n",
       "      <td>31.8</td>\n",
       "      <td>17</td>\n",
       "      <td>0</td>\n",
       "    </tr>\n",
       "    <tr>\n",
       "      <th>19997</th>\n",
       "      <td>19998</td>\n",
       "      <td>T83921</td>\n",
       "      <td>M</td>\n",
       "      <td>25.95</td>\n",
       "      <td>NaN</td>\n",
       "      <td>NaN</td>\n",
       "      <td>33.4</td>\n",
       "      <td>22</td>\n",
       "      <td>0</td>\n",
       "    </tr>\n",
       "    <tr>\n",
       "      <th>19998</th>\n",
       "      <td>19999</td>\n",
       "      <td>K42424</td>\n",
       "      <td>H</td>\n",
       "      <td>25.95</td>\n",
       "      <td>35.65</td>\n",
       "      <td>1408.0</td>\n",
       "      <td>48.5</td>\n",
       "      <td>25</td>\n",
       "      <td>0</td>\n",
       "    </tr>\n",
       "    <tr>\n",
       "      <th>19999</th>\n",
       "      <td>20000</td>\n",
       "      <td>Z10048</td>\n",
       "      <td>M</td>\n",
       "      <td>25.95</td>\n",
       "      <td>35.65</td>\n",
       "      <td>1500.0</td>\n",
       "      <td>40.2</td>\n",
       "      <td>30</td>\n",
       "      <td>0</td>\n",
       "    </tr>\n",
       "  </tbody>\n",
       "</table>\n",
       "<p>20000 rows × 9 columns</p>\n",
       "</div>"
      ],
      "text/plain": [
       "       Unique ID Product ID Quality  Ambient T (C)  Process T (C)  \\\n",
       "0              1     K12965       M          24.95          35.45   \n",
       "1              2     Z62710       L          25.05          35.55   \n",
       "2              3     T20224       L          24.95          35.35   \n",
       "3              4     Z33024       L          25.05          35.45   \n",
       "4              5     Z52839       L          25.05          35.55   \n",
       "...          ...        ...     ...            ...            ...   \n",
       "19995      19996     T87335       M          25.75          35.35   \n",
       "19996      19997     Z59525       H          25.85          35.35   \n",
       "19997      19998     T83921       M          25.95            NaN   \n",
       "19998      19999     K42424       H          25.95          35.65   \n",
       "19999      20000     Z10048       M          25.95          35.65   \n",
       "\n",
       "       Rotation Speed (rpm)  Torque (Nm)  Tool Wear (min)  Machine Status  \n",
       "0                    1551.0         42.8                0               0  \n",
       "1                    1408.0         46.3                3               0  \n",
       "2                    1498.0         49.4                5               0  \n",
       "3                    1433.0         39.5                7               0  \n",
       "4                    1408.0         40.0                9               0  \n",
       "...                     ...          ...              ...             ...  \n",
       "19995                   NaN         29.5               14               0  \n",
       "19996                1632.0         31.8               17               0  \n",
       "19997                   NaN         33.4               22               0  \n",
       "19998                1408.0         48.5               25               0  \n",
       "19999                1500.0         40.2               30               0  \n",
       "\n",
       "[20000 rows x 9 columns]"
      ]
     },
     "execution_count": 2,
     "metadata": {},
     "output_type": "execute_result"
    }
   ],
   "source": [
    "## read in 'factory_data (classification).csv' dataset to dataframe\n",
    "df = pd.read_csv('factory_data (classification).csv')\n",
    "df"
   ]
  },
  {
   "cell_type": "markdown",
   "id": "f4fcb1aa",
   "metadata": {},
   "source": [
    "#### How do you represent your data as features ?\n",
    "#### Did you process the features in any way?\n",
    "### ‎ \n",
    "##### In this dataset, all but one of the columns that will be used in the classification task are numerical attributes, excluding the 'Quality' column, consisting of CHAR(1) values. The columns 'Unique ID' and 'Product ID' has been dropped, as they are not useful when conducting statistical inference in our classification task of predicting whether a machine might fail or not.\n",
    "##### ‎ \n",
    "##### The data has been split into data array X and target array y, with X containing all columns excluding 'Machine Status', while y contains only the target variable, 'Machine Status'\n",
    "##### ‎ \n",
    "##### In the data preprocessing stage, multiple steps have been taken to prepare the data for Classification. \n",
    "##### Upon checking for null values, it is found that there are multiple null values in  'Quality', 'Process T (C)' and 'Rotation Speed (rpm)' columns"
   ]
  },
  {
   "cell_type": "code",
   "execution_count": 21,
   "id": "22834918",
   "metadata": {},
   "outputs": [
    {
     "data": {
      "text/html": [
       "<div>\n",
       "<style scoped>\n",
       "    .dataframe tbody tr th:only-of-type {\n",
       "        vertical-align: middle;\n",
       "    }\n",
       "\n",
       "    .dataframe tbody tr th {\n",
       "        vertical-align: top;\n",
       "    }\n",
       "\n",
       "    .dataframe thead th {\n",
       "        text-align: right;\n",
       "    }\n",
       "</style>\n",
       "<table border=\"1\" class=\"dataframe\">\n",
       "  <thead>\n",
       "    <tr style=\"text-align: right;\">\n",
       "      <th></th>\n",
       "      <th>Quality</th>\n",
       "      <th>Ambient T (C)</th>\n",
       "      <th>Process T (C)</th>\n",
       "      <th>Rotation Speed (rpm)</th>\n",
       "      <th>Torque (Nm)</th>\n",
       "      <th>Tool Wear (min)</th>\n",
       "    </tr>\n",
       "  </thead>\n",
       "  <tbody>\n",
       "    <tr>\n",
       "      <th>0</th>\n",
       "      <td>M</td>\n",
       "      <td>24.95</td>\n",
       "      <td>35.45</td>\n",
       "      <td>1551.0</td>\n",
       "      <td>42.8</td>\n",
       "      <td>0</td>\n",
       "    </tr>\n",
       "    <tr>\n",
       "      <th>1</th>\n",
       "      <td>L</td>\n",
       "      <td>25.05</td>\n",
       "      <td>35.55</td>\n",
       "      <td>1408.0</td>\n",
       "      <td>46.3</td>\n",
       "      <td>3</td>\n",
       "    </tr>\n",
       "    <tr>\n",
       "      <th>2</th>\n",
       "      <td>L</td>\n",
       "      <td>24.95</td>\n",
       "      <td>35.35</td>\n",
       "      <td>1498.0</td>\n",
       "      <td>49.4</td>\n",
       "      <td>5</td>\n",
       "    </tr>\n",
       "    <tr>\n",
       "      <th>3</th>\n",
       "      <td>L</td>\n",
       "      <td>25.05</td>\n",
       "      <td>35.45</td>\n",
       "      <td>1433.0</td>\n",
       "      <td>39.5</td>\n",
       "      <td>7</td>\n",
       "    </tr>\n",
       "    <tr>\n",
       "      <th>4</th>\n",
       "      <td>L</td>\n",
       "      <td>25.05</td>\n",
       "      <td>35.55</td>\n",
       "      <td>1408.0</td>\n",
       "      <td>40.0</td>\n",
       "      <td>9</td>\n",
       "    </tr>\n",
       "    <tr>\n",
       "      <th>...</th>\n",
       "      <td>...</td>\n",
       "      <td>...</td>\n",
       "      <td>...</td>\n",
       "      <td>...</td>\n",
       "      <td>...</td>\n",
       "      <td>...</td>\n",
       "    </tr>\n",
       "    <tr>\n",
       "      <th>19995</th>\n",
       "      <td>M</td>\n",
       "      <td>25.75</td>\n",
       "      <td>35.35</td>\n",
       "      <td>NaN</td>\n",
       "      <td>29.5</td>\n",
       "      <td>14</td>\n",
       "    </tr>\n",
       "    <tr>\n",
       "      <th>19996</th>\n",
       "      <td>H</td>\n",
       "      <td>25.85</td>\n",
       "      <td>35.35</td>\n",
       "      <td>1632.0</td>\n",
       "      <td>31.8</td>\n",
       "      <td>17</td>\n",
       "    </tr>\n",
       "    <tr>\n",
       "      <th>19997</th>\n",
       "      <td>M</td>\n",
       "      <td>25.95</td>\n",
       "      <td>NaN</td>\n",
       "      <td>NaN</td>\n",
       "      <td>33.4</td>\n",
       "      <td>22</td>\n",
       "    </tr>\n",
       "    <tr>\n",
       "      <th>19998</th>\n",
       "      <td>H</td>\n",
       "      <td>25.95</td>\n",
       "      <td>35.65</td>\n",
       "      <td>1408.0</td>\n",
       "      <td>48.5</td>\n",
       "      <td>25</td>\n",
       "    </tr>\n",
       "    <tr>\n",
       "      <th>19999</th>\n",
       "      <td>M</td>\n",
       "      <td>25.95</td>\n",
       "      <td>35.65</td>\n",
       "      <td>1500.0</td>\n",
       "      <td>40.2</td>\n",
       "      <td>30</td>\n",
       "    </tr>\n",
       "  </tbody>\n",
       "</table>\n",
       "<p>20000 rows × 6 columns</p>\n",
       "</div>"
      ],
      "text/plain": [
       "      Quality  Ambient T (C)  Process T (C)  Rotation Speed (rpm)  \\\n",
       "0           M          24.95          35.45                1551.0   \n",
       "1           L          25.05          35.55                1408.0   \n",
       "2           L          24.95          35.35                1498.0   \n",
       "3           L          25.05          35.45                1433.0   \n",
       "4           L          25.05          35.55                1408.0   \n",
       "...       ...            ...            ...                   ...   \n",
       "19995       M          25.75          35.35                   NaN   \n",
       "19996       H          25.85          35.35                1632.0   \n",
       "19997       M          25.95            NaN                   NaN   \n",
       "19998       H          25.95          35.65                1408.0   \n",
       "19999       M          25.95          35.65                1500.0   \n",
       "\n",
       "       Torque (Nm)  Tool Wear (min)  \n",
       "0             42.8                0  \n",
       "1             46.3                3  \n",
       "2             49.4                5  \n",
       "3             39.5                7  \n",
       "4             40.0                9  \n",
       "...            ...              ...  \n",
       "19995         29.5               14  \n",
       "19996         31.8               17  \n",
       "19997         33.4               22  \n",
       "19998         48.5               25  \n",
       "19999         40.2               30  \n",
       "\n",
       "[20000 rows x 6 columns]"
      ]
     },
     "execution_count": 21,
     "metadata": {},
     "output_type": "execute_result"
    }
   ],
   "source": [
    "## set feature array X and target array y\n",
    "X = df.drop(['Machine Status', 'Unique ID', 'Product ID'], axis=1)\n",
    "y = df['Machine Status']"
   ]
  },
  {
   "cell_type": "code",
   "execution_count": 4,
   "id": "42d60ad9",
   "metadata": {},
   "outputs": [
    {
     "name": "stdout",
     "output_type": "stream",
     "text": [
      "\n",
      "If value below = True, there are null values\n",
      "True\n",
      "\n",
      "Total number of null values\n",
      "2579\n",
      "\n",
      "Columns with missing values:\n",
      "Unique ID: 0\n",
      "Product ID: 0\n",
      "Quality: 991\n",
      "Ambient T (C): 0\n",
      "Process T (C): 400\n",
      "Rotation Speed (rpm): 1188\n",
      "Torque (Nm): 0\n",
      "Tool Wear (min): 0\n",
      "Machine Status: 0\n"
     ]
    }
   ],
   "source": [
    "# check if there are any null values in the dataframe\n",
    "print(\"\\nIf value below = True, there are null values\")\n",
    "print(df.isnull().values.any())\n",
    "\n",
    "# check total number of null values in the dataframe\n",
    "print(\"\\nTotal number of null values\")\n",
    "print(df.isnull().sum().sum())\n",
    "\n",
    "# use a for loop to iterate through columns in dataframe to identify columns with missing values\n",
    "print(\"\\nColumns with missing values:\")\n",
    "for i in range(0, len(df.columns)):\n",
    "    column = df.iloc[:,i]\n",
    "    colName = df.keys()[i]\n",
    "    print(colName + \": \" + str(df[colName].isnull().sum()))"
   ]
  },
  {
   "cell_type": "markdown",
   "id": "887a4a47",
   "metadata": {},
   "source": [
    "#### By plotting histograms of the numerical attributes containing null values, we are able to identify what form of imputation is best fitted to fill these null values.\n",
    "##### ‎ \n",
    "#### As shown below, 'Process T (C)' is normally distributed and centered in the middle while 'Rotation Speed (rpm)' is positively skewed to the left. Hence, they have been imputed using the mean and median respectively. As for quality, since it is a categorical attribute, it has been imputed using the most frequent value."
   ]
  },
  {
   "cell_type": "code",
   "execution_count": 5,
   "id": "9e01e88d",
   "metadata": {},
   "outputs": [
    {
     "data": {
      "image/png": "[encoded data removed]",
      "text/plain": [
       "<Figure size 432x288 with 1 Axes>"
      ]
     },
     "metadata": {
      "needs_background": "light"
     },
     "output_type": "display_data"
    }
   ],
   "source": [
    "proc_T = plt.hist(df['Process T (C)'])"
   ]
  },
  {
   "cell_type": "code",
   "execution_count": 6,
   "id": "76be8d91",
   "metadata": {
    "scrolled": true
   },
   "outputs": [
    {
     "data": {
      "image/png": "[encoded data removed]",
      "text/plain": [
       "<Figure size 432x288 with 1 Axes>"
      ]
     },
     "metadata": {
      "needs_background": "light"
     },
     "output_type": "display_data"
    }
   ],
   "source": [
    "rpm = plt.hist(df['Rotation Speed (rpm)'])"
   ]
  },
  {
   "cell_type": "code",
   "execution_count": 7,
   "id": "5899b3c3",
   "metadata": {},
   "outputs": [
    {
     "name": "stdout",
     "output_type": "stream",
     "text": [
      "Number of 0: 19322\n",
      "Number of 1: 678\n"
     ]
    },
    {
     "data": {
      "image/png": "[encoded data removed]",
      "text/plain": [
       "<Figure size 432x288 with 1 Axes>"
      ]
     },
     "metadata": {
      "needs_background": "light"
     },
     "output_type": "display_data"
    }
   ],
   "source": [
    "status = df['Machine Status']\n",
    "fig = plt.figure()\n",
    "ax = fig.add_axes([0,0,1,1])\n",
    "\n",
    "zero = status[status == 0]\n",
    "one = status[status == 1]\n",
    "\n",
    "print('Number of 0: ' + str(len(zero)))\n",
    "print('Number of 1: ' + str(len(one)))\n",
    "\n",
    "x_values = [len(zero), len(one)]\n",
    "x_labels = ['zeros', 'ones']\n",
    "\n",
    "ax.bar(x_labels, x_values)\n",
    "plt.show()"
   ]
  },
  {
   "cell_type": "markdown",
   "id": "7f84f62a",
   "metadata": {},
   "source": [
    "#### From the bar graph showing the counts of zeros and ones in the 'Machine Status' column above, we can tell that the data is unbalanced, and hence accuracy is not a good gauge when evaluating our model. When data is unbalanced, it is common practice to evaluate the model based on f1 score instead of looking solely at accuracy."
   ]
  },
  {
   "cell_type": "markdown",
   "id": "47ed3f78",
   "metadata": {},
   "source": [
    "#### Upon imputation of null values, the data is then split into X_train, X_test, y_train and y_test to be prepared for classification"
   ]
  },
  {
   "cell_type": "code",
   "execution_count": 8,
   "id": "d9f68f8d",
   "metadata": {},
   "outputs": [],
   "source": [
    "X_train, X_test, y_train, y_test = train_test_split(X, y, test_size=0.3, random_state=42)"
   ]
  },
  {
   "cell_type": "code",
   "execution_count": 9,
   "id": "29ac938b",
   "metadata": {},
   "outputs": [
    {
     "name": "stdout",
     "output_type": "stream",
     "text": [
      "      Quality  Ambient T (C)  Process T (C)  Rotation Speed (rpm)  \\\n",
      "17218       H          26.85          36.75                1400.0   \n",
      "15188       L          30.95          40.15                1632.0   \n",
      "11295       L          25.65          36.75                1402.0   \n",
      "19772       L          25.45          36.45                   NaN   \n",
      "13072       L          27.05          35.95                1314.0   \n",
      "...       ...            ...            ...                   ...   \n",
      "11284       L          25.35          36.45                2153.0   \n",
      "11964       M          24.75          34.45                1405.0   \n",
      "5390        H          29.65          39.15                1483.0   \n",
      "860         H          22.95          33.75                1541.0   \n",
      "15795       M          28.85          38.35                1465.0   \n",
      "\n",
      "       Torque (Nm)  Tool Wear (min)  \n",
      "17218         48.7              119  \n",
      "15188         30.6              121  \n",
      "11295         54.3              128  \n",
      "19772         34.8               35  \n",
      "13072         58.2              114  \n",
      "...            ...              ...  \n",
      "11284         15.3               98  \n",
      "11964         46.9              113  \n",
      "5390          47.2              223  \n",
      "860           32.6               33  \n",
      "15795         39.9              153  \n",
      "\n",
      "[14000 rows x 6 columns]\n"
     ]
    }
   ],
   "source": [
    "print(X_train)"
   ]
  },
  {
   "cell_type": "markdown",
   "id": "ceb29dc3",
   "metadata": {},
   "source": [
    "### How did you select which learning algorithms to use?\n",
    "##### ‎ \n",
    "##### To first select which learning algorithms to use, the problem domain is first identified. As this is a classification task, the following learning algorithms were selected: K-Nearest-Neighbors, Naive Bayes, Logistic Regression, Decision Tree, Random Forest and SVC.\n",
    "##### ‎ \n",
    "##### K-Nearest-Neighbors is a simple, straightforward classifier and effective despite being slow\n",
    "##### ‎ \n",
    "##### Naive Bayes is a simple probalitistic classifier that does not require much data, and consistently shows great performance regardless of size of data\n",
    "##### ‎ \n",
    "##### Logistic Regression is one of the default models considered when performing a classification task, and provides many ways to regularize the model\n",
    "##### ‎ \n",
    "##### Decision Tree and Random Forest classifiers work better with high quality, clean data which this dataset posseses. These classifiers are non-parametric, and hence there is no need to worry abour outliers or linear seperatability\n",
    "##### ‎ \n",
    "##### SVC classifiers have a high accuracy and theoretical guarantees regardless of overfitting, although computationally intensive and hard to tune due to many hyperparameters\n",
    "# ‎ "
   ]
  },
  {
   "cell_type": "markdown",
   "id": "be0c5b02",
   "metadata": {},
   "source": [
    "### Handling Imputation Of NULL Values + Fitting The Models Into Pipeline"
   ]
  },
  {
   "cell_type": "code",
   "execution_count": 28,
   "id": "5f8ece4a",
   "metadata": {
    "scrolled": false
   },
   "outputs": [
    {
     "name": "stdout",
     "output_type": "stream",
     "text": [
      "                    Model  F1_score  Precision    Recall  Accuracy\n",
      "0    KNeighborsClassifier  0.970931   0.971967  0.975167  0.975167\n",
      "1              GaussianNB  0.952460   0.948689  0.957333  0.957333\n",
      "2      LogisticRegression  0.961031   0.964652  0.969833  0.969833\n",
      "3  DecisionTreeClassifier  0.990554   0.990616  0.990500  0.990500\n",
      "4  RandomForestClassifier  0.989358   0.989457  0.989833  0.989833\n",
      "5                     SVC  0.966247   0.971586  0.973333  0.973333\n"
     ]
    }
   ],
   "source": [
    "## in order to handle imputation of null values of multiple attributes with varying datatypes, ColumnTransformer is used\n",
    "\n",
    "## first transformation to impute missing values across the columns using different methods\n",
    "trf1 = ColumnTransformer([\n",
    "    ('impute_quality', SimpleImputer(missing_values=np.nan, strategy='most_frequent'), [0]),\n",
    "    ('impute_proc_T', SimpleImputer(missing_values=np.nan, strategy='mean'), [2]),\n",
    "    ('impute_rpm', SimpleImputer(missing_values=np.nan, strategy='median'), [3])\n",
    "], remainder='passthrough')\n",
    "\n",
    "## second transformation to encode column 'Quality' using OrdinalEncoder() as it is a non-numeric attribute\n",
    "trf2 = ColumnTransformer([\n",
    "    ('encode', OrdinalEncoder(), [0])\n",
    "], remainder='passthrough')\n",
    "\n",
    "## create array containing list of names of classifiers\n",
    "model_name = ['KNeighborsClassifier', 'GaussianNB', 'LogisticRegression', 'DecisionTreeClassifier', 'RandomForestClassifier', 'SVC']\n",
    "## create array containing list of classifier objects\n",
    "models = [KNeighborsClassifier(), GaussianNB(), LogisticRegression(), DecisionTreeClassifier(random_state = 42), RandomForestClassifier(), SVC()]\n",
    "scores_df = pd.DataFrame()\n",
    "\n",
    "## using a for loop, fit the models into the pipeline \n",
    "for i in range(len(models)):\n",
    "    pipeline = Pipeline([('trf1', trf1), ('trf2', trf2), ('StandardScaler', StandardScaler()),('models', models[i])])\n",
    "\n",
    "    pipeline.fit(X_train, y_train)\n",
    "    y_hat = pipeline.predict(X_test)\n",
    "    scores_df = scores_df.append({'Model': model_name[i],\n",
    "                              'F1_score': metrics.f1_score(y_test, y_hat, average='weighted'),\n",
    "                              'Precision': metrics.precision_score(y_test, y_hat, average='weighted'),\n",
    "                              'Recall': metrics.recall_score(y_test, y_hat, average='weighted'),\n",
    "                              'Accuracy': metrics.accuracy_score(y_test, y_hat)},\n",
    "                            ignore_index=True)\n",
    "    \n",
    "print(scores_df)"
   ]
  },
  {
   "cell_type": "markdown",
   "id": "cd23ff5d",
   "metadata": {},
   "source": [
    "##### Although all models possess high results in all the metrics, it is important to note that the data is highly imbalanced, and there is a high chance that the models are overfitted. Hence, cross validation should be performed on the models to reduce overfitting."
   ]
  },
  {
   "cell_type": "markdown",
   "id": "0260b09c",
   "metadata": {},
   "source": [
    "### Cross Validation With cross_val_score"
   ]
  },
  {
   "cell_type": "code",
   "execution_count": 11,
   "id": "6666f138",
   "metadata": {},
   "outputs": [
    {
     "data": {
      "text/html": [
       "<div>\n",
       "<style scoped>\n",
       "    .dataframe tbody tr th:only-of-type {\n",
       "        vertical-align: middle;\n",
       "    }\n",
       "\n",
       "    .dataframe tbody tr th {\n",
       "        vertical-align: top;\n",
       "    }\n",
       "\n",
       "    .dataframe thead th {\n",
       "        text-align: right;\n",
       "    }\n",
       "</style>\n",
       "<table border=\"1\" class=\"dataframe\">\n",
       "  <thead>\n",
       "    <tr style=\"text-align: right;\">\n",
       "      <th></th>\n",
       "      <th>model</th>\n",
       "      <th>accuracy</th>\n",
       "      <th>f1</th>\n",
       "      <th>precision</th>\n",
       "      <th>recall</th>\n",
       "    </tr>\n",
       "  </thead>\n",
       "  <tbody>\n",
       "    <tr>\n",
       "      <th>0</th>\n",
       "      <td>KNeighborsClassifier</td>\n",
       "      <td>0.97880</td>\n",
       "      <td>0.592585</td>\n",
       "      <td>0.857465</td>\n",
       "      <td>0.454281</td>\n",
       "    </tr>\n",
       "    <tr>\n",
       "      <th>1</th>\n",
       "      <td>GaussianNB</td>\n",
       "      <td>0.95850</td>\n",
       "      <td>0.241318</td>\n",
       "      <td>0.350225</td>\n",
       "      <td>0.190283</td>\n",
       "    </tr>\n",
       "    <tr>\n",
       "      <th>2</th>\n",
       "      <td>LogisticRegression</td>\n",
       "      <td>0.96895</td>\n",
       "      <td>0.257867</td>\n",
       "      <td>0.759083</td>\n",
       "      <td>0.165272</td>\n",
       "    </tr>\n",
       "    <tr>\n",
       "      <th>3</th>\n",
       "      <td>DecisionTreeClassifier</td>\n",
       "      <td>0.99170</td>\n",
       "      <td>0.878644</td>\n",
       "      <td>0.875017</td>\n",
       "      <td>0.883497</td>\n",
       "    </tr>\n",
       "    <tr>\n",
       "      <th>4</th>\n",
       "      <td>RandomForestClassifier</td>\n",
       "      <td>0.99415</td>\n",
       "      <td>0.900716</td>\n",
       "      <td>0.976703</td>\n",
       "      <td>0.848105</td>\n",
       "    </tr>\n",
       "    <tr>\n",
       "      <th>5</th>\n",
       "      <td>SVC</td>\n",
       "      <td>0.97485</td>\n",
       "      <td>0.441436</td>\n",
       "      <td>0.892107</td>\n",
       "      <td>0.293519</td>\n",
       "    </tr>\n",
       "  </tbody>\n",
       "</table>\n",
       "</div>"
      ],
      "text/plain": [
       "                    model  accuracy        f1  precision    recall\n",
       "0    KNeighborsClassifier   0.97880  0.592585   0.857465  0.454281\n",
       "1              GaussianNB   0.95850  0.241318   0.350225  0.190283\n",
       "2      LogisticRegression   0.96895  0.257867   0.759083  0.165272\n",
       "3  DecisionTreeClassifier   0.99170  0.878644   0.875017  0.883497\n",
       "4  RandomForestClassifier   0.99415  0.900716   0.976703  0.848105\n",
       "5                     SVC   0.97485  0.441436   0.892107  0.293519"
      ]
     },
     "execution_count": 11,
     "metadata": {},
     "output_type": "execute_result"
    }
   ],
   "source": [
    "scorings = ['accuracy', 'f1', 'precision', 'recall']\n",
    "cv_scores = []\n",
    "\n",
    "for i in range(len(models)):\n",
    "    pipeline = Pipeline([('trf1', trf1), ('trf2', trf2), ('StandardScaler', StandardScaler()),('models', models[i])])\n",
    "\n",
    "    pipeline.fit(X_train, y_train)\n",
    "    \n",
    "    for a in range(len(scorings)):\n",
    "        scores = cross_val_score(pipeline, X, y, cv=5, scoring=scorings[a])\n",
    "        cv_scores.append(scores.mean())\n",
    "\n",
    "    \n",
    "# print(scores_df)\n",
    "cv_scores = np.array(cv_scores)\n",
    "cv_scores = np.split(cv_scores, 6)\n",
    "cv_scores = np.array(cv_scores)\n",
    "cvDF = pd.DataFrame(cv_scores, columns=['accuracy', 'f1', 'precision', 'recall'])\n",
    "cvDF.insert(0, \"model\", ['KNeighborsClassifier', 'GaussianNB', 'LogisticRegression', 'DecisionTreeClassifier', 'RandomForestClassifier', 'SVC'], True)\n",
    "cvDF"
   ]
  },
  {
   "cell_type": "markdown",
   "id": "200b987a",
   "metadata": {},
   "source": [
    "##### Upon performing cross validation, it is seen that the accuracies of all models have gone up. However, f1 score, precision and recall scores have dropped significantly for most models."
   ]
  },
  {
   "cell_type": "markdown",
   "id": "c5a0b9c3",
   "metadata": {},
   "source": [
    "##### As Random Forest, Decision Tree and K-Nearest-Neighbors performed the best out of the rest of the models, they have been chosen. As random forest is just a more complex variation of decision tree, decision tree will not be used. Later on, hyperparameter tuning will be conducted on both kNN and Random Forest classifiers."
   ]
  },
  {
   "cell_type": "markdown",
   "id": "0c1263be",
   "metadata": {},
   "source": [
    "### System Errors"
   ]
  },
  {
   "cell_type": "code",
   "execution_count": 27,
   "id": "1a6115af",
   "metadata": {},
   "outputs": [
    {
     "data": {
      "text/plain": [
       "<sklearn.metrics._plot.confusion_matrix.ConfusionMatrixDisplay at 0x1272ee8c820>"
      ]
     },
     "execution_count": 27,
     "metadata": {},
     "output_type": "execute_result"
    },
    {
     "data": {
      "image/png": "[encoded data removed]",
      "text/plain": [
       "<Figure size 432x288 with 2 Axes>"
      ]
     },
     "metadata": {
      "needs_background": "light"
     },
     "output_type": "display_data"
    }
   ],
   "source": [
    "## System Errors\n",
    "\n",
    "model = DecisionTreeClassifier(random_state=42)\n",
    "pipeline = Pipeline([('trf1', trf1), ('trf2', trf2), ('StandardScaler', StandardScaler()),('models', model)])\n",
    "pipeline.fit(X_train, y_train)\n",
    "scores = cross_val_score(pipeline, X, y, cv=5)\n",
    "\n",
    "y_hat = pipeline.predict(X_test)\n",
    "\n",
    "plot_confusion_matrix(estimator=pipeline, X=X_test, y_true=y_test, cmap='Blues')"
   ]
  },
  {
   "cell_type": "markdown",
   "id": "d55b65af",
   "metadata": {},
   "source": [
    "#### By plotting a confusion matrix, we are able to visualise what kind of errors our system makes.\n",
    "##### ‎\n",
    "##### As shown in the confusion matrix, the model classifies 5759 of positives correctly and 1844 of the negatives correctly. It classifies 31 negatives as positive, and 26 negatives as positives.\n",
    "##### ‎\n",
    "##### This result is quite satisfactory, as the total number of Type I and Type II errors combined are only 57, which is 0.95% of the total values in the test data. "
   ]
  },
  {
   "cell_type": "markdown",
   "id": "9d219474",
   "metadata": {},
   "source": [
    "### Check For Overfitting"
   ]
  },
  {
   "cell_type": "code",
   "execution_count": 13,
   "id": "fbcf3822",
   "metadata": {},
   "outputs": [
    {
     "data": {
      "image/png": "[encoded data removed]",
      "text/plain": [
       "<Figure size 432x288 with 1 Axes>"
      ]
     },
     "metadata": {
      "needs_background": "light"
     },
     "output_type": "display_data"
    }
   ],
   "source": [
    "## overfitting in RandomForestClassifier()\n",
    "\n",
    "train_scores, test_scores = list(), list()\n",
    "values = [i for i in range(1, 21)]\n",
    "\n",
    "for i in values:\n",
    "    model = RandomForestClassifier(max_depth=i)\n",
    "    pipeline = Pipeline([('trf1', trf1), ('trf2', trf2), ('StandardScaler', StandardScaler()),('model', model)])\n",
    "    pipeline.fit(X_train, y_train)\n",
    "    \n",
    "    test_y_hat = pipeline.predict(X_test)\n",
    "    test_acc = metrics.accuracy_score(y_test, test_y_hat)\n",
    "    test_scores.append(test_acc)\n",
    "    \n",
    "    train_y_hat = pipeline.predict(X_train)\n",
    "    train_acc = metrics.accuracy_score(y_train, train_y_hat)\n",
    "    train_scores.append(train_acc)\n",
    "\n",
    "pyplot.plot(values, train_scores, '-o', label='Train')\n",
    "pyplot.plot(values, test_scores, '-o', label='Test')\n",
    "pyplot.legend()\n",
    "pyplot.show()"
   ]
  },
  {
   "cell_type": "markdown",
   "id": "d6cb0cdb",
   "metadata": {},
   "source": [
    "##### As the train and test lines are increasing correspondingly before the test line slowly starts to stagnate while the train accuracy continues to increase, there is a weak overfitting of the model observed."
   ]
  },
  {
   "cell_type": "code",
   "execution_count": 14,
   "id": "7e9d1c8f",
   "metadata": {},
   "outputs": [
    {
     "data": {
      "image/png": "[encoded data removed]",
      "text/plain": [
       "<Figure size 432x288 with 1 Axes>"
      ]
     },
     "metadata": {
      "needs_background": "light"
     },
     "output_type": "display_data"
    }
   ],
   "source": [
    "## overfitting in KNeighborsClassifier()\n",
    "\n",
    "train_scores, test_scores = list(), list()\n",
    "values = [i for i in range(1, 51)]\n",
    "\n",
    "for i in values:\n",
    "    model = KNeighborsClassifier(n_neighbors=i)\n",
    "    pipeline = Pipeline([('trf1', trf1), ('trf2', trf2), ('StandardScaler', StandardScaler()),('model', model)])\n",
    "    pipeline.fit(X_train, y_train)\n",
    "    \n",
    "    test_y_hat = pipeline.predict(X_test)\n",
    "    test_acc = metrics.accuracy_score(y_test, test_y_hat)\n",
    "    test_scores.append(test_acc)\n",
    "    \n",
    "    train_y_hat = pipeline.predict(X_train)\n",
    "    train_acc = metrics.accuracy_score(y_train, train_y_hat)\n",
    "    train_scores.append(train_acc)\n",
    "\n",
    "pyplot.plot(values, train_scores, '-o', label='Train')\n",
    "pyplot.plot(values, test_scores, '-o', label='Test')\n",
    "pyplot.legend()\n",
    "pyplot.show()"
   ]
  },
  {
   "cell_type": "markdown",
   "id": "6c2fdd77",
   "metadata": {},
   "source": [
    "##### Although it looks as though the train and test lines are slowly converging as number of neighbors increases, they never fully converge. However, it is noteworthy to remember that the K-Nearest-Neighbors model is simply the training dataset stored in an efficient data structure. Hence, skill for the model on the training dataset should not be anything less than 100%."
   ]
  },
  {
   "cell_type": "markdown",
   "id": "79c4cbf3",
   "metadata": {},
   "source": [
    "### Hyperparameter Tuning with GridSearchCV"
   ]
  },
  {
   "cell_type": "code",
   "execution_count": 16,
   "id": "84c12a5b",
   "metadata": {
    "scrolled": true
   },
   "outputs": [
    {
     "name": "stdout",
     "output_type": "stream",
     "text": [
      "0.9187938633721437\n",
      "{'lr__criterion': 'entropy', 'lr__max_depth': 30, 'lr__max_features': 'log2', 'lr__n_estimators': 500}\n"
     ]
    }
   ],
   "source": [
    "## GridSearchCV() on RandomForestClassifier()\n",
    "pipeline = Pipeline([('trf1', trf1), ('trf2', trf2), ('StandardScaler', StandardScaler()), ('lr', RandomForestClassifier())])\n",
    "\n",
    "parameters = {'lr__n_estimators': (100, 200, 500),\n",
    "              'lr__criterion': ('gini', 'entropy', 'log_loss'),\n",
    "              'lr__max_depth': (np.arange(10, 101, 20)),\n",
    "              'lr__max_features': ('auto', 'sqrt', 'log2')}\n",
    "                                                                                           \n",
    "grid = GridSearchCV(pipeline, parameters, cv=5, scoring='f1', n_jobs = -1)\n",
    "grid.fit(X, y)\n",
    "\n",
    "print(grid.best_score_)\n",
    "print(grid.best_params_)"
   ]
  },
  {
   "cell_type": "code",
   "execution_count": 17,
   "id": "62e09034",
   "metadata": {},
   "outputs": [
    {
     "name": "stdout",
     "output_type": "stream",
     "text": [
      "0.9192734329976625\n",
      "{'lr__algorithm': 'ball_tree', 'lr__metric': 'minkowski', 'lr__n_neighbors': 3, 'lr__weights': 'distance'}\n",
      "Pipeline(steps=[('trf1',\n",
      "                 ColumnTransformer(remainder='passthrough',\n",
      "                                   transformers=[('impute_quality',\n",
      "                                                  SimpleImputer(strategy='most_frequent'),\n",
      "                                                  [0]),\n",
      "                                                 ('impute_proc_T',\n",
      "                                                  SimpleImputer(), [2]),\n",
      "                                                 ('impute_rpm',\n",
      "                                                  SimpleImputer(strategy='median'),\n",
      "                                                  [3])])),\n",
      "                ('trf2',\n",
      "                 ColumnTransformer(remainder='passthrough',\n",
      "                                   transformers=[('encode', OrdinalEncoder(),\n",
      "                                                  [0])])),\n",
      "                ('StandardScaler', StandardScaler()),\n",
      "                ('lr',\n",
      "                 KNeighborsClassifier(algorithm='ball_tree', n_neighbors=3,\n",
      "                                      weights='distance'))])\n"
     ]
    }
   ],
   "source": [
    "## GridSearchCV on KNeighborsClassifier()\n",
    "pipeline = Pipeline([('trf1', trf1), ('trf2', trf2), ('StandardScaler', StandardScaler()), ('lr', KNeighborsClassifier())])\n",
    "\n",
    "k_range = list(range(1,31))\n",
    "parameters = {'lr__n_neighbors': k_range,\n",
    "              'lr__weights': ('uniform', 'distance'),\n",
    "              'lr__metric': ('minkowski', 'chebyshev'),\n",
    "              'lr__algorithm': ('ball_tree', 'kd_tree', 'brute')}\n",
    "\n",
    "\n",
    "grid = GridSearchCV(pipeline, parameters, cv=5, scoring='f1', n_jobs = -1)\n",
    "grid.fit(X, y)\n",
    "\n",
    "print(grid.best_score_)\n",
    "print(grid.best_params_)"
   ]
  },
  {
   "cell_type": "markdown",
   "id": "496ac590",
   "metadata": {},
   "source": [
    "### How well does your system compare to a stupid baseline?\n",
    "##### ‎ \n",
    "##### Below the DummyClassifier() classifier is used, so that we are able to compare the system to a stupid baseline like such. The dummy classifier makes predictions that ignore the input features, and is typically used as a baseline to compare with other models to evaluate their performance"
   ]
  },
  {
   "cell_type": "markdown",
   "id": "6ccaf3f7",
   "metadata": {},
   "source": [
    "### Dummy Classifier"
   ]
  },
  {
   "cell_type": "code",
   "execution_count": 19,
   "id": "ce04630d",
   "metadata": {},
   "outputs": [
    {
     "name": "stdout",
     "output_type": "stream",
     "text": [
      "Accuracy: 0.9661\n",
      "Accuracy Std: 0.00020000000000002237\n",
      "F1 Score: 0.0\n",
      "F1 Score Std: 0.0\n"
     ]
    },
    {
     "data": {
      "text/plain": [
       "<sklearn.metrics._plot.confusion_matrix.ConfusionMatrixDisplay at 0x127334700a0>"
      ]
     },
     "execution_count": 19,
     "metadata": {},
     "output_type": "execute_result"
    },
    {
     "data": {
      "image/png": "[encoded data removed]",
      "text/plain": [
       "<Figure size 432x288 with 2 Axes>"
      ]
     },
     "metadata": {
      "needs_background": "light"
     },
     "output_type": "display_data"
    }
   ],
   "source": [
    "dc = DummyClassifier(random_state = 42)\n",
    "\n",
    "pipeline = Pipeline([('trf1', trf1), ('trf2', trf2), ('StandardScaler', StandardScaler()),('model', dc)])\n",
    "\n",
    "pipeline.fit(X_train, y_train)\n",
    "accuracy = cross_val_score(dc, X, y, cv=10, scoring='accuracy')\n",
    "f1 = cross_val_score(dc, X, y, cv=10, scoring='f1')\n",
    "\n",
    "print('Accuracy: ' + str(accuracy.mean()))\n",
    "print('Accuracy Std: ' + str(accuracy.std()))\n",
    "print('F1 Score: ' + str(f1.mean()))\n",
    "print('F1 Score Std: ' + str(f1.std()))\n",
    "\n",
    "\n",
    "plot_confusion_matrix(estimator=dc, X=X_test, y_true=y_test, cmap='Blues')"
   ]
  },
  {
   "cell_type": "markdown",
   "id": "c3407d02",
   "metadata": {},
   "source": [
    "##### Although the Dummy Classifier has a very high accuracy, it has an f1 score of 0. This is expected as the dummy classifier uses the most frequent values in the dataset, hence resulting in an extremely high accuracy due to the lack of balance in the data."
   ]
  },
  {
   "cell_type": "markdown",
   "id": "56a2531d",
   "metadata": {},
   "source": [
    "### Feature Importance"
   ]
  },
  {
   "cell_type": "code",
   "execution_count": 22,
   "id": "de197e3c",
   "metadata": {},
   "outputs": [
    {
     "name": "stdout",
     "output_type": "stream",
     "text": [
      "Feature: 0, Score: 0.02382\n",
      "Feature: 1, Score: 0.12142\n",
      "Feature: 2, Score: 0.21485\n",
      "Feature: 3, Score: 0.13452\n",
      "Feature: 4, Score: 0.34381\n",
      "Feature: 5, Score: 0.16158\n"
     ]
    },
    {
     "data": {
      "image/png": "[encoded data removed]",
      "text/plain": [
       "<Figure size 432x288 with 1 Axes>"
      ]
     },
     "metadata": {
      "needs_background": "light"
     },
     "output_type": "display_data"
    }
   ],
   "source": [
    "# define the model\n",
    "model = RandomForestClassifier(random_state=42)\n",
    "# fit the model\n",
    "pipeline = Pipeline([('trf1', trf1), ('trf2', trf2), ('StandardScaler', StandardScaler()),('RFC', model)])\n",
    "pipeline.fit(X, y)\n",
    "# get importance\n",
    "importance = model.feature_importances_\n",
    "# summarize feature importance\n",
    "for i,v in enumerate(importance):\n",
    "    print('Feature: %0d, Score: %.5f' % (i,v))\n",
    "# plot feature importance\n",
    "pyplot.bar([x for x in range(len(importance))], importance)\n",
    "pyplot.show()"
   ]
  },
  {
   "cell_type": "markdown",
   "id": "ea5b8354",
   "metadata": {},
   "source": [
    "##### In order to identify the importance of each feature, Random Forest Classifier is used, and the coefficient values of each feature are then returned.\n",
    "\n",
    "##### Using these coefficients as importance value, a bar chart of feature importance on the y-axis is plotted against the feature number on the x-axis. It is seen that feature 4, holds a very large importance in this classification task.\n",
    "\n",
    "##### The fourth feature in this case, represents Torque (Nm), which is the measure of turning force of the system."
   ]
  },
  {
   "cell_type": "markdown",
   "id": "f5f114ea",
   "metadata": {},
   "source": [
    "### References\n",
    "##### https://www.analyticssteps.com/blogs/types-classifiers-machine-learning\n",
    "##### https://www.researchgate.net/post/How_to_choose_appropriate_classifier\n",
    "##### http://citeseerx.ist.psu.edu/viewdoc/download?doi=10.1.1.165.6726&rep=rep1&type=pdf\n",
    "##### https://towardsdatascience.com/machine-learning-classifiers-a5cc4e1b0623\n",
    "##### https://blog.echen.me/2011/04/27/choosing-a-machine-learning-classifier/\n",
    "##### https://nlp.stanford.edu/IR-book/html/htmledition/choosing-what-kind-of-classifier-to-use-1.html\n",
    "##### https://towardsai.net/p/data-science/dealing-with-class-imbalance%E2%80%8A-%E2%80%8A-dummy-classifiers\n",
    "\n",
    "##### https://towardsdatascience.com/why-using-a-dummy-classifier-is-a-smart-move-4a55080e3549\n",
    "##### https://towardsdatascience.com/accuracy-precision-recall-or-f1-331fb37c5cb9\n",
    "##### https://machinelearningmastery.com/calculate-feature-importance-with-python/"
   ]
  }
 ],
 "metadata": {
  "kernelspec": {
   "display_name": "Python 3 (ipykernel)",
   "language": "python",
   "name": "python3"
  },
  "language_info": {
   "codemirror_mode": {
    "name": "ipython",
    "version": 3
   },
   "file_extension": ".py",
   "mimetype": "text/x-python",
   "name": "python",
   "nbconvert_exporter": "python",
   "pygments_lexer": "ipython3",
   "version": "3.9.7"
  }
 },
 "nbformat": 4,
 "nbformat_minor": 5
}
